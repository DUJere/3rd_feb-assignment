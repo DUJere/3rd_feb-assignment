{
 "cells": [
  {
   "cell_type": "markdown",
   "id": "50c3b0fc-b544-4b37-aea1-922e1b6a449a",
   "metadata": {},
   "source": [
    "Q1. Which keyword is used to create a function? Create a function to return a list of odd numbers in the\n",
    "range of 1 to 25.\n",
    "\n",
    "Answer : \"def\" keyword is used to define function"
   ]
  },
  {
   "cell_type": "code",
   "execution_count": 3,
   "id": "7ab897c7-37ad-4008-babd-4b94b8fad100",
   "metadata": {},
   "outputs": [],
   "source": [
    "## function to return a list of odd numbers in the range of 1 to 25.\n",
    "\n",
    "l = list(range(1,26))\n",
    "\n",
    "l1 = []\n",
    "\n",
    "def odd_num(a) :\n",
    "    for i in a :\n",
    "        if i%2 == 1 :\n",
    "            l1.append(i)\n",
    "    print(l1)"
   ]
  },
  {
   "cell_type": "code",
   "execution_count": 4,
   "id": "11a31d3a-5e10-42f5-bf76-ddeea780430c",
   "metadata": {},
   "outputs": [
    {
     "name": "stdout",
     "output_type": "stream",
     "text": [
      "[1, 3, 5, 7, 9, 11, 13, 15, 17, 19, 21, 23, 25]\n"
     ]
    }
   ],
   "source": [
    "odd_num(l)"
   ]
  },
  {
   "cell_type": "markdown",
   "id": "018587c4-a956-4b15-af37-ec1628afef4c",
   "metadata": {},
   "source": [
    "Q2. Why *args and **kwargs is used in some functions? Create a function each for *args and **kwargs\n",
    "to demonstrate their use.\n",
    "\n",
    "Answer : *args and **kwargs are special keyword which allows function to take variable length argument.\n",
    "         *args passes variable number of non-keyworded arguments and on which operation of the tuple can be performed.\n",
    "         **kwargs passes variable number of keyword arguments dictionary to function on which operation of a dictionary can be performed.\n",
    "         *args and **kwargs make the function flexible."
   ]
  },
  {
   "cell_type": "code",
   "execution_count": 5,
   "id": "9c773feb-6a12-4bc2-895a-551e86f995ba",
   "metadata": {},
   "outputs": [],
   "source": [
    "## *args example\n",
    "\n",
    "def arg_fun(*args) :\n",
    "    for i in args :\n",
    "        print(i)"
   ]
  },
  {
   "cell_type": "code",
   "execution_count": 6,
   "id": "3aa71c25-bd7a-4c34-b5e3-f7bbeee815ca",
   "metadata": {},
   "outputs": [
    {
     "name": "stdout",
     "output_type": "stream",
     "text": [
      "This\n",
      "is\n",
      "dj\n"
     ]
    }
   ],
   "source": [
    "arg_fun(\"This\",\"is\",\"dj\")"
   ]
  },
  {
   "cell_type": "code",
   "execution_count": 7,
   "id": "9c03b39d-d460-42d2-ba99-33db51171834",
   "metadata": {},
   "outputs": [],
   "source": [
    "## *kwargs example\n",
    "\n",
    "def kwar_fun(**kwargs) :\n",
    "    print(\"His last name is \" + kwargs[\"lname\"])"
   ]
  },
  {
   "cell_type": "code",
   "execution_count": 8,
   "id": "036d37c7-e61a-41c0-864d-3ea0e1d79998",
   "metadata": {},
   "outputs": [
    {
     "name": "stdout",
     "output_type": "stream",
     "text": [
      "His last name is Joshi\n"
     ]
    }
   ],
   "source": [
    "kwar_fun(fname = \"digvijay\",lname=\"Joshi\")"
   ]
  },
  {
   "cell_type": "markdown",
   "id": "6bde852d-f78e-49aa-9aaf-46adb2124d62",
   "metadata": {},
   "source": [
    "Q3.  What is an iterator in python? Name the method used to initialise the iterator object and the method\n",
    "used for iteration. Use these methods to print the first five elements of the given list [2, 4, 6, 8, 10, 12, 14,\n",
    "16, 18, 20].\n",
    "\n",
    "Answer : An iterator is an object that contains a countable number of values. An iterator is an object that can be iterated upon, meaning that you can traverse through all the values. Technically, in Python, an iterator is an object which implements the iterator protocol, which consist of the method __iter__()"
   ]
  },
  {
   "cell_type": "code",
   "execution_count": 5,
   "id": "130ba930-bfe0-48b4-b24d-e3e38ece5925",
   "metadata": {},
   "outputs": [],
   "source": [
    "l =  [2, 4, 6, 8, 10, 12, 14, 16, 18, 20]\n",
    "\n",
    "itr = iter(l)"
   ]
  },
  {
   "cell_type": "code",
   "execution_count": 6,
   "id": "42e11d03-e670-4cec-bc0d-15454faa38bb",
   "metadata": {},
   "outputs": [
    {
     "name": "stdout",
     "output_type": "stream",
     "text": [
      "<list_iterator object at 0x7f4272ecdae0>\n"
     ]
    }
   ],
   "source": [
    "print(itr)"
   ]
  },
  {
   "cell_type": "code",
   "execution_count": 7,
   "id": "7039e729-ea1b-40e5-9541-a1703a958509",
   "metadata": {},
   "outputs": [
    {
     "name": "stdout",
     "output_type": "stream",
     "text": [
      "2\n"
     ]
    }
   ],
   "source": [
    "print(next(itr))"
   ]
  },
  {
   "cell_type": "code",
   "execution_count": 8,
   "id": "46b8c4b6-6a7f-45ff-8007-bedb2750dfb4",
   "metadata": {},
   "outputs": [
    {
     "name": "stdout",
     "output_type": "stream",
     "text": [
      "4\n"
     ]
    }
   ],
   "source": [
    "print(next(itr))"
   ]
  },
  {
   "cell_type": "code",
   "execution_count": 9,
   "id": "40ff699d-bed9-4f0b-932c-9d7e8b5003b0",
   "metadata": {},
   "outputs": [
    {
     "name": "stdout",
     "output_type": "stream",
     "text": [
      "6\n"
     ]
    }
   ],
   "source": [
    "print(next(itr))"
   ]
  },
  {
   "cell_type": "code",
   "execution_count": 10,
   "id": "e33531fc-55a9-4239-bbc6-bd5e5dedcfa0",
   "metadata": {},
   "outputs": [
    {
     "name": "stdout",
     "output_type": "stream",
     "text": [
      "8\n"
     ]
    }
   ],
   "source": [
    "print(next(itr))"
   ]
  },
  {
   "cell_type": "code",
   "execution_count": 11,
   "id": "a3e1948c-206e-48fe-86e2-7567d372e58e",
   "metadata": {},
   "outputs": [
    {
     "name": "stdout",
     "output_type": "stream",
     "text": [
      "10\n"
     ]
    }
   ],
   "source": [
    "print(next(itr))"
   ]
  },
  {
   "cell_type": "markdown",
   "id": "fa79cdeb-7c01-4fc4-b480-3a462375767f",
   "metadata": {},
   "source": [
    "Q4.  What is a generator function in python? Why yield keyword is used? Give an example of a generator\n",
    "function.\n",
    "\n",
    "Answer : Generator functions are a special kind of function that return a lazy iterator called a generator iterator. These are objects that you can loop over like a list. However, unlike lists, lazy iterators do not store their contents in memory.\n",
    "The yield keyword in Python controls the flow of a generator function. This is similar to a return statement used for returning values in Python."
   ]
  },
  {
   "cell_type": "code",
   "execution_count": 17,
   "id": "f1ff860d-51db-49a1-a90e-f57a7453f739",
   "metadata": {},
   "outputs": [],
   "source": [
    "def fun_generator():\n",
    "    yield \"Hello world!!\"\n",
    "    yield \"pwskills\""
   ]
  },
  {
   "cell_type": "code",
   "execution_count": 18,
   "id": "b8364222-4050-47bd-99af-40bc0f660bf1",
   "metadata": {},
   "outputs": [],
   "source": [
    "a = fun_generator()"
   ]
  },
  {
   "cell_type": "code",
   "execution_count": 19,
   "id": "5038ba33-ed97-43f2-ad52-2576f3ea4d88",
   "metadata": {},
   "outputs": [
    {
     "name": "stdout",
     "output_type": "stream",
     "text": [
      "<generator object fun_generator at 0x7f4272f0ec00>\n"
     ]
    }
   ],
   "source": [
    "print(a)"
   ]
  },
  {
   "cell_type": "code",
   "execution_count": 20,
   "id": "6bdabe3f-43df-43b4-95b1-d2879630c56b",
   "metadata": {},
   "outputs": [
    {
     "name": "stdout",
     "output_type": "stream",
     "text": [
      "Hello world!!\n"
     ]
    }
   ],
   "source": [
    "print(next(a))"
   ]
  },
  {
   "cell_type": "code",
   "execution_count": 21,
   "id": "631944d9-9b74-4cbf-aab2-3296c72d843a",
   "metadata": {},
   "outputs": [
    {
     "name": "stdout",
     "output_type": "stream",
     "text": [
      "pwskills\n"
     ]
    }
   ],
   "source": [
    "print(next(a))"
   ]
  },
  {
   "cell_type": "markdown",
   "id": "0b53097f-2182-4ef6-9c7c-72fd200d9901",
   "metadata": {},
   "source": [
    "Q6. Write a python program to print the first 10 Fibonacci numbers using a while loop.\n"
   ]
  },
  {
   "cell_type": "code",
   "execution_count": 6,
   "id": "9b3305be-52c7-432d-8d0c-eb5025989f76",
   "metadata": {},
   "outputs": [
    {
     "name": "stdout",
     "output_type": "stream",
     "text": [
      "0\n",
      "1\n",
      "1\n",
      "2\n",
      "3\n",
      "5\n",
      "8\n",
      "13\n",
      "21\n",
      "34\n"
     ]
    }
   ],
   "source": [
    "a , b = 0 , 1 \n",
    "\n",
    "addition = 0\n",
    "\n",
    "count = 1\n",
    "\n",
    "while count < 11 :\n",
    "    \n",
    "    print(a)\n",
    "    \n",
    "    addition = a + b\n",
    "    \n",
    "    a = b\n",
    "    \n",
    "    b = addition\n",
    "    \n",
    "    count = count + 1\n",
    "    \n",
    "    "
   ]
  },
  {
   "cell_type": "markdown",
   "id": "d539a3fd-a918-4f48-b4b7-b8a365ec3278",
   "metadata": {},
   "source": [
    "Q7. Write a List Comprehension to iterate through the given string: ‘pwskills’.\n",
    "\n",
    "Expected output: ['p', 'w', 's', 'k', 'i', 'l', 'l', 's'] "
   ]
  },
  {
   "cell_type": "code",
   "execution_count": 1,
   "id": "141aa756-40ab-4aff-9041-6513fc77cf18",
   "metadata": {},
   "outputs": [
    {
     "data": {
      "text/plain": [
       "['p', 'w', 's', 'k', 'i', 'l', 'l', 's']"
      ]
     },
     "execution_count": 1,
     "metadata": {},
     "output_type": "execute_result"
    }
   ],
   "source": [
    "l = \"pwskills\"\n",
    "\n",
    "[i for i in l]"
   ]
  },
  {
   "cell_type": "markdown",
   "id": "ad0431bd-8923-4f34-a5e3-e2a07d6edc2a",
   "metadata": {},
   "source": [
    "Q8. Write a python program to check whether a given number is Palindrome or not using a while loop."
   ]
  },
  {
   "cell_type": "code",
   "execution_count": 3,
   "id": "c57abc63-ec03-4ab8-bf88-3d87e2eea495",
   "metadata": {},
   "outputs": [
    {
     "name": "stdin",
     "output_type": "stream",
     "text": [
      "Enter number =  111\n"
     ]
    },
    {
     "name": "stdout",
     "output_type": "stream",
     "text": [
      "Palindrome\n"
     ]
    }
   ],
   "source": [
    "n = int(input(\"Enter number = \"))\n",
    "\n",
    "temp = n\n",
    "\n",
    "reverse = 0\n",
    "\n",
    "while n > 0 :\n",
    "    \n",
    "    digit = n % 10\n",
    "    \n",
    "    reverse = reverse * 10 + digit \n",
    "    \n",
    "    n = n//10\n",
    "    \n",
    "if temp == reverse :\n",
    "    print(\"Palindrome\")\n",
    "    \n",
    "else :\n",
    "    print(\"Not palindrome\")"
   ]
  },
  {
   "cell_type": "markdown",
   "id": "e9b9dcc9-1d20-4b52-ad67-f63f17a442f3",
   "metadata": {},
   "source": [
    "Q9. Write a code to print odd numbers from 1 to 100 using list comprehension."
   ]
  },
  {
   "cell_type": "code",
   "execution_count": 9,
   "id": "71e725aa-8c2c-4f71-b907-975c767cf51c",
   "metadata": {},
   "outputs": [
    {
     "name": "stdout",
     "output_type": "stream",
     "text": [
      "[1, 3, 5, 7, 9, 11, 13, 15, 17, 19, 21, 23, 25, 27, 29, 31, 33, 35, 37, 39, 41, 43, 45, 47, 49, 51, 53, 55, 57, 59, 61, 63, 65, 67, 69, 71, 73, 75, 77, 79, 81, 83, 85, 87, 89, 91, 93, 95, 97, 99]\n"
     ]
    }
   ],
   "source": [
    "li = list(range(1,101))\n",
    "\n",
    "only_odd = [i for i in li if i%2==1]\n",
    "\n",
    "print(only_odd)"
   ]
  }
 ],
 "metadata": {
  "kernelspec": {
   "display_name": "Python 3 (ipykernel)",
   "language": "python",
   "name": "python3"
  },
  "language_info": {
   "codemirror_mode": {
    "name": "ipython",
    "version": 3
   },
   "file_extension": ".py",
   "mimetype": "text/x-python",
   "name": "python",
   "nbconvert_exporter": "python",
   "pygments_lexer": "ipython3",
   "version": "3.10.8"
  }
 },
 "nbformat": 4,
 "nbformat_minor": 5
}
